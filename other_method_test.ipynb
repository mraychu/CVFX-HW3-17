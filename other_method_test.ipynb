{
 "cells": [
  {
   "cell_type": "code",
   "execution_count": 27,
   "metadata": {},
   "outputs": [
    {
     "data": {
      "text/plain": [
       "True"
      ]
     },
     "execution_count": 27,
     "metadata": {},
     "output_type": "execute_result"
    }
   ],
   "source": [
    "import cv2\n",
    "import numpy as np\n",
    "\n",
    "imagename='orangetree.jpg'\n",
    "testdir='test3/'\n",
    "# mouse callback function\n",
    "def draw_circle(event,x,y,flags,param):\n",
    "    global needdraw\n",
    "    if event == cv2.EVENT_LBUTTONDOWN:\n",
    "        needdraw = True\n",
    "    if event == cv2.EVENT_LBUTTONUP:\n",
    "        needdraw = False\n",
    "    if event == cv2.EVENT_MOUSEMOVE:\n",
    "        if needdraw:\n",
    "            cv2.rectangle(img,(x,y),(x+8,y+8),(0,0,0),-1)\n",
    "\n",
    "img = cv2.imread(imagename)\n",
    "cv2.namedWindow('image')\n",
    "needdraw=False\n",
    "cv2.setMouseCallback('image',draw_circle)\n",
    "\n",
    "while(1):\n",
    "    cv2.imshow('image',img)\n",
    "    if cv2.waitKey(20) & 0xFF == 27:\n",
    "        break\n",
    "cv2.destroyAllWindows()\n",
    "\n",
    "origin = cv2.imread(imagename)\n",
    "originnp = np.array(origin,dtype=int)\n",
    "after = np.array(img,dtype=int)\n",
    "\n",
    "mask = originnp - after\n",
    "\n",
    "for i in range(mask.shape[0]):\n",
    "    for j in range(mask.shape[1]):\n",
    "        if not np.array_equal(mask[i][j],[0,0,0]):\n",
    "            mask[i][j] = [255,255,255]\n",
    "mask = mask.astype(np.uint8)\n",
    "\n",
    "cv2.imwrite(testdir+imagename+'_after.jpeg', img)\n",
    "cv2.imwrite(testdir+imagename+'_mask.jpeg',mask)\n",
    "\n",
    "mask = mask[:,:,0]\n",
    "tesla_inpaint = cv2.inpaint(img,mask,3,cv2.INPAINT_TELEA)\n",
    "ns_inpaint = cv2.inpaint(img,mask,3,cv2.INPAINT_NS)\n",
    "\n",
    "cv2.imwrite(testdir+imagename+'_tesla_inpaint.jpeg', tesla_inpaint)\n",
    "cv2.imwrite(testdir+imagename+'_ns_inpaint.jpeg', ns_inpaint)"
   ]
  },
  {
   "cell_type": "markdown",
   "metadata": {},
   "source": [
    "## Other method\n",
    "### Intro\n",
    "上面是用Opencv python library 所實做出來的兩種image inpaint的方法的code  \n",
    "允許使用者用滑鼠在圖片上做mask 再透過inpaint API 查看效果  \n",
    "兩種方法分別是  \n",
    "  \n",
    " “An Image Inpainting Technique Based on the Fast Marching Method” by Alexandru Telea in 2004  \n",
    " 演算法大略是參考要被inpaint的周遭pixel,  \n",
    " 依照靠近程度給予weight,並用fast Marching Method來找下一個要inpaint的pixel  \n",
    "   \n",
    " “Navier-Stokes, Fluid Dynamics, and Image and Video Inpainting” by Bertalmio, Marcelo, Andrea L. Bertozzi, and Guillermo Sapiro in 2001  \n",
    " 這個方法則是基於流體力學,並利用偏微分方程,先遍歷位置區塊的邊緣\n",
    " 並持續進行isophotes\n",
    "   \n",
    "以下用這5張圖來做三種不同的實驗  \n",
    "<img src=\"apple.jpg\" title=\"apple\" width=\"200\" height=\"200\" style=\"float: left\" />\n",
    "<img src=\"appletree.jpg\" title=\"apple\" width=\"200\" height=\"200\" style=\"float: left\" />\n",
    "<img src=\"face.jpg\" title=\"apple\" width=\"200\" height=\"200\" style=\"float: left\" />\n",
    "<img src=\"orange.jpg\" title=\"apple\" width=\"200\" height=\"200\" style=\"float: left\" />\n",
    "<img src=\"orangetree.jpg\" title=\"apple\" width=\"200\" height=\"200\" style=\"float: left\" />"
   ]
  },
  {
   "cell_type": "markdown",
   "metadata": {},
   "source": [
    "### test1 random thin line\n",
    "由下面幾張圖可以發現不論使哪種圖片或是方法  \n",
    "inpaint過後的圖片質量皆不差  \n",
    "<img src=\"test1/apple.jpg_ns_inpaint.jpeg\" title=\"apple\" width=\"200\" height=\"200\" style=\"float: left\" />\n",
    "<img src=\"test1/apple.jpg_tesla_inpaint.jpeg\" title=\"apple\" width=\"200\" height=\"200\" style=\"float: left\" />\n",
    "<img src=\"test1/orangetree.jpg_ns_inpaint.jpeg\" title=\"apple\" width=\"200\" height=\"200\" style=\"float: left\" />\n",
    "<img src=\"test1/orangetree.jpg_tesla_inpaint.jpeg\" title=\"apple\" width=\"200\" height=\"200\" style=\"float: left\" />\n",
    "<img src=\"test1/face.jpg_tesla_inpaint.jpeg\" title=\"apple\" width=\"200\" height=\"200\" style=\"float: left\" />\n"
   ]
  },
  {
   "cell_type": "markdown",
   "metadata": {},
   "source": [
    "### test2 random thick line\n",
    "由於未知的範圍增加了,  \n",
    "相比於test1,圖片就會有明顯類似馬賽克的defect或是mask波紋    \n",
    "如face圖片中的眼睛就不見了,  \n",
    "但還是可以看出原本圖片的樣貌,若是周圍背景顏色較為單一,  \n",
    "也不會與原圖相差太多"
   ]
  },
  {
   "cell_type": "markdown",
   "metadata": {},
   "source": [
    "### test3 erase object\n",
    "先前有看過nvidia的[影片](https://www.youtube.com/watch?v=tU484zM3pDY)  \n",
    "因此想做類似的實驗  \n",
    "不出意料地,大部分的結果並不是很好  \n",
    "只有在被刪除的周圍顏色背景差不多時  \n",
    "才會有比較真實的結果  \n",
    "但如果是小部分不同的像素想要移除,這依然是個不錯的方法"
   ]
  },
  {
   "cell_type": "code",
   "execution_count": null,
   "metadata": {},
   "outputs": [],
   "source": []
  }
 ],
 "metadata": {
  "kernelspec": {
   "display_name": "Python 3",
   "language": "python",
   "name": "python3"
  },
  "language_info": {
   "codemirror_mode": {
    "name": "ipython",
    "version": 3
   },
   "file_extension": ".py",
   "mimetype": "text/x-python",
   "name": "python",
   "nbconvert_exporter": "python",
   "pygments_lexer": "ipython3",
   "version": "3.6.7"
  }
 },
 "nbformat": 4,
 "nbformat_minor": 2
}
